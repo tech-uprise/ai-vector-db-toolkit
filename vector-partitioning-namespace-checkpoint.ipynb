{
 "cells": [
  {
   "cell_type": "markdown",
   "id": "b4374f29-fd00-4368-9f81-de63208aa203",
   "metadata": {},
   "source": [
    "Vecor Partition Using Namespace"
   ]
  },
  {
   "cell_type": "code",
   "execution_count": null,
   "id": "9a6be823-44e0-40c2-8d37-fee4f7a87610",
   "metadata": {},
   "outputs": [],
   "source": [
    "import sys\n",
    "import os\n",
    "import pinecone\n",
    "from tqdm.autonotebook import tqdm # to address a warning message"
   ]
  },
  {
   "cell_type": "code",
   "execution_count": null,
   "id": "c22eacd3-cf24-4df1-9ce7-e82ed50f75b3",
   "metadata": {},
   "outputs": [],
   "source": [
    "# Print Python executable and version for debugging\n",
    "print(sys.executable)\n",
    "print(sys.version)"
   ]
  },
  {
   "cell_type": "code",
   "execution_count": null,
   "id": "41cdb7f7-7f0d-4e5a-878c-4f0f5a228195",
   "metadata": {},
   "outputs": [],
   "source": [
    "# Install Pinecone client if not already installed\n",
    "!{sys.executable} -m pip install pinecone-client"
   ]
  },
  {
   "cell_type": "code",
   "execution_count": null,
   "id": "b2ac07ff-4bbe-43c8-a751-779f9f4fedb9",
   "metadata": {},
   "outputs": [],
   "source": [
    "# Check which pip is being used\n",
    "!which pip3"
   ]
  },
  {
   "cell_type": "code",
   "execution_count": null,
   "id": "5dd5a9f1-ff9f-44e7-807e-0ba951c9e377",
   "metadata": {},
   "outputs": [],
   "source": [
    "#from pinecone import Pinecone\n",
    "import os\n",
    "from pinecone import Pinecone, ServerlessSpec\n",
    "# Initialize Pinecone\n",
    "pc = Pinecone(api_key=\"your-api-key\")"
   ]
  },
  {
   "cell_type": "code",
   "execution_count": null,
   "id": "238ffbc6-150d-48b7-bd52-be63f37e6729",
   "metadata": {},
   "outputs": [],
   "source": [
    "# List all available Pinecone indexes\n",
    "print(\"Available indexes:\", pc.list_indexes())"
   ]
  },
  {
   "cell_type": "code",
   "execution_count": null,
   "id": "81ccfb81-e411-4e69-a99a-32ebb12f3a51",
   "metadata": {},
   "outputs": [],
   "source": [
    "# Define the index name\n",
    "index_name = 'my-collection-index'"
   ]
  },
  {
   "cell_type": "code",
   "execution_count": null,
   "id": "45ff75a0-5d6c-480c-9d64-60b35999fa88",
   "metadata": {},
   "outputs": [],
   "source": [
    "# Connect to the Pinecone index\n",
    "idx = pc.Index(index_name)\n",
    "\n",
    "#idx.delete(delete_all=True)"
   ]
  },
  {
   "cell_type": "code",
   "execution_count": null,
   "id": "255618b4-2527-4990-8535-f5b102c2c39c",
   "metadata": {},
   "outputs": [],
   "source": [
    "dimensions = 3 # index dimension"
   ]
  },
  {
   "cell_type": "code",
   "execution_count": null,
   "id": "70975c3a-a431-4bc8-8cb5-df9878c305f2",
   "metadata": {},
   "outputs": [],
   "source": [
    "# count of emails\n",
    "emails_with_subject = 20\n",
    "emails_with_body = 45\n",
    "emails_with_other = 45"
   ]
  },
  {
   "cell_type": "code",
   "execution_count": null,
   "id": "74ae33cd-cb9e-49b0-b5e7-21b56d205383",
   "metadata": {},
   "outputs": [],
   "source": [
    "# create dummy vector, assume embedded\n",
    "import numpy as np\n",
    "\n",
    "vector_subject = np.random.rand(emails_with_subject, dimensions).tolist()\n",
    "vector_body = np.random.rand(emails_with_body, dimensions).tolist()\n",
    "vector_other = np.random.rand(emails_with_other, dimensions).tolist()\n",
    "\n",
    "# python list of lists"
   ]
  },
  {
   "cell_type": "code",
   "execution_count": null,
   "id": "bf2b5208-2923-4236-b81b-120aa61c8f8d",
   "metadata": {},
   "outputs": [],
   "source": [
    "# create ids for these vectors, IDs are string\n",
    "ids_subject = map(str, np.arange(emails_with_subject).tolist())\n",
    "ids_body = map(str, np.arange(emails_with_body).tolist())\n",
    "ids_other = map(str, np.arange(emails_with_other).tolist())\n",
    "\n",
    "#list(ids_other)"
   ]
  },
  {
   "cell_type": "code",
   "execution_count": null,
   "id": "049db24f-afe0-4b5e-a5e4-39000cd329d1",
   "metadata": {},
   "outputs": [],
   "source": [
    "# zip id and vector\n",
    "\n",
    "vectors_subject = list(zip(ids_subject, vector_subject))\n",
    "vectors_body = list(zip(ids_body, vector_body))\n",
    "vectors_other = list(zip(ids_other, vector_other))\n",
    "\n",
    "# list of tuples (id, values)\n",
    "\n",
    "list(vectors_subject)"
   ]
  },
  {
   "cell_type": "code",
   "execution_count": null,
   "id": "8e336d05-890c-440f-b453-f1be7e05bba6",
   "metadata": {},
   "outputs": [],
   "source": [
    "# upsert subject vectors into index with different namespace\n",
    "\n",
    "idx.upsert(vectors_subject, namespace='subject')\n"
   ]
  },
  {
   "cell_type": "code",
   "execution_count": null,
   "id": "a8e65339-5948-4035-9a66-622832be9cad",
   "metadata": {},
   "outputs": [],
   "source": [
    "# upsert subject vectors into index with different namespace\n",
    "idx.upsert(vectors_body, namespace='body')\n"
   ]
  },
  {
   "cell_type": "code",
   "execution_count": null,
   "id": "711e11da-0c39-471c-a3e9-3046913bdf06",
   "metadata": {},
   "outputs": [],
   "source": [
    "# upsert subject vectors into index with different namespace\n",
    "\n",
    "idx.upsert(vectors_other, namespace='other')"
   ]
  },
  {
   "cell_type": "code",
   "execution_count": null,
   "id": "9c93ec17-5116-48d1-a30f-9d66a711c9fc",
   "metadata": {},
   "outputs": [],
   "source": []
  }
 ],
 "metadata": {
  "kernelspec": {
   "display_name": "Python 3 (ipykernel)",
   "language": "python",
   "name": "python3"
  },
  "language_info": {
   "codemirror_mode": {
    "name": "ipython",
    "version": 3
   },
   "file_extension": ".py",
   "mimetype": "text/x-python",
   "name": "python",
   "nbconvert_exporter": "python",
   "pygments_lexer": "ipython3",
   "version": "3.12.3"
  }
 },
 "nbformat": 4,
 "nbformat_minor": 5
}
