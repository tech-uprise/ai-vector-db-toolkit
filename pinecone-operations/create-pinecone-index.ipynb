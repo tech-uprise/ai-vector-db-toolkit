{
 "cells": [
  {
   "cell_type": "code",
   "execution_count": null,
   "id": "8583c6ec-41ab-4c25-bfb7-c600ef3c55d5",
   "metadata": {},
   "outputs": [],
   "source": [
    "import sys\n",
    "print(sys.executable)\n",
    "print(sys.version)"
   ]
  },
  {
   "cell_type": "code",
   "execution_count": null,
   "id": "a310a546-f072-4ef3-b52d-481f335c468d",
   "metadata": {},
   "outputs": [],
   "source": [
    "!{sys.executable} -m pip install pinecone-client"
   ]
  },
  {
   "cell_type": "code",
   "execution_count": null,
   "id": "b4279e14-09eb-4ca1-9530-7c36236239f5",
   "metadata": {},
   "outputs": [],
   "source": [
    "!which pip3"
   ]
  },
  {
   "cell_type": "code",
   "execution_count": null,
   "id": "3b3e589e-98ee-4045-b4d8-f42373aac119",
   "metadata": {},
   "outputs": [],
   "source": [
    "#from pinecone import Pinecone\n",
    "import os\n",
    "from pinecone import Pinecone, ServerlessSpec"
   ]
  },
  {
   "cell_type": "code",
   "execution_count": null,
   "id": "62da894a-7938-4b61-a034-480f9bb24d6e",
   "metadata": {},
   "outputs": [],
   "source": [
    "#!{sys.executable} -m pip list"
   ]
  },
  {
   "cell_type": "code",
   "execution_count": null,
   "id": "753da7b5-739e-4070-8110-59b664d34457",
   "metadata": {
    "scrolled": true
   },
   "outputs": [],
   "source": [
    "# Initialize Pinecone\n",
    "pc = Pinecone(api_key=\"your-api-key\")"
   ]
  },
  {
   "cell_type": "code",
   "execution_count": null,
   "id": "fd255fe1-58be-4978-b136-d34660d02a25",
   "metadata": {},
   "outputs": [],
   "source": [
    "# Example: Check if an index exists and create one if it does not\n",
    "if 'test-index' not in pc.list_indexes().names():\n",
    "    pc.create_index(\n",
    "        name='test-index', \n",
    "        dimension=3, \n",
    "        metric='euclidean',\n",
    "        spec=ServerlessSpec(\n",
    "            cloud='aws',\n",
    "            region='us-east-1'\n",
    "        )\n",
    "    )"
   ]
  },
  {
   "cell_type": "code",
   "execution_count": null,
   "id": "93d98b0a-640d-4758-8d31-021f6b842297",
   "metadata": {},
   "outputs": [],
   "source": [
    "pc.list_indexes()"
   ]
  },
  {
   "cell_type": "code",
   "execution_count": null,
   "id": "4bdc8acb-c438-45f1-af31-880a71314a1c",
   "metadata": {},
   "outputs": [],
   "source": []
  }
 ],
 "metadata": {
  "kernelspec": {
   "display_name": "Python 3 (ipykernel)",
   "language": "python",
   "name": "python3"
  },
  "language_info": {
   "codemirror_mode": {
    "name": "ipython",
    "version": 3
   },
   "file_extension": ".py",
   "mimetype": "text/x-python",
   "name": "python",
   "nbconvert_exporter": "python",
   "pygments_lexer": "ipython3",
   "version": "3.12.3"
  }
 },
 "nbformat": 4,
 "nbformat_minor": 5
}
