{
 "cells": [
  {
   "cell_type": "markdown",
   "id": "b4374f29-fd00-4368-9f81-de63208aa203",
   "metadata": {},
   "source": [
    "Vector Partition Using Metadata"
   ]
  },
  {
   "cell_type": "code",
   "execution_count": null,
   "id": "9a6be823-44e0-40c2-8d37-fee4f7a87610",
   "metadata": {},
   "outputs": [],
   "source": [
    "import sys\n",
    "import os\n",
    "import pinecone\n",
    "from tqdm.autonotebook import tqdm # to address a warning message"
   ]
  },
  {
   "cell_type": "code",
   "execution_count": null,
   "id": "c22eacd3-cf24-4df1-9ce7-e82ed50f75b3",
   "metadata": {},
   "outputs": [],
   "source": [
    "# Print Python executable and version for debugging\n",
    "print(sys.executable)\n",
    "print(sys.version)"
   ]
  },
  {
   "cell_type": "code",
   "execution_count": null,
   "id": "41cdb7f7-7f0d-4e5a-878c-4f0f5a228195",
   "metadata": {},
   "outputs": [],
   "source": [
    "# Install Pinecone client if not already installed\n",
    "!{sys.executable} -m pip install pinecone-client"
   ]
  },
  {
   "cell_type": "code",
   "execution_count": null,
   "id": "b2ac07ff-4bbe-43c8-a751-779f9f4fedb9",
   "metadata": {},
   "outputs": [],
   "source": [
    "# Check which pip is being used\n",
    "!which pip3"
   ]
  },
  {
   "cell_type": "code",
   "execution_count": null,
   "id": "5dd5a9f1-ff9f-44e7-807e-0ba951c9e377",
   "metadata": {},
   "outputs": [],
   "source": [
    "#from pinecone import Pinecone\n",
    "import os\n",
    "from pinecone import Pinecone, ServerlessSpec\n",
    "# Initialize Pinecone\n",
    "pc = Pinecone(api_key=\"your-api-key\")"
   ]
  },
  {
   "cell_type": "code",
   "execution_count": null,
   "id": "238ffbc6-150d-48b7-bd52-be63f37e6729",
   "metadata": {},
   "outputs": [],
   "source": [
    "# List all available Pinecone indexes\n",
    "print(\"Available indexes:\", pc.list_indexes())"
   ]
  },
  {
   "cell_type": "code",
   "execution_count": null,
   "id": "81ccfb81-e411-4e69-a99a-32ebb12f3a51",
   "metadata": {},
   "outputs": [],
   "source": [
    "# Define the index name\n",
    "index_name = 'my-collection-index'"
   ]
  },
  {
   "cell_type": "code",
   "execution_count": null,
   "id": "45ff75a0-5d6c-480c-9d64-60b35999fa88",
   "metadata": {},
   "outputs": [],
   "source": [
    "# Connect to the Pinecone index\n",
    "idx = pc.Index(index_name)\n",
    "\n",
    "#idx.delete(delete_all=True)"
   ]
  },
  {
   "cell_type": "markdown",
   "id": "247931f8-d6da-42bf-869b-e9ceee0dcc95",
   "metadata": {},
   "source": [
    "Upsert"
   ]
  },
  {
   "cell_type": "code",
   "execution_count": null,
   "id": "70975c3a-a431-4bc8-8cb5-df9878c305f2",
   "metadata": {},
   "outputs": [],
   "source": [
    "idx.upsert([\n",
    "    (\"1\", [0.1, 0.1, 0.1], {\"topic\": \"subject\", \"year\": 2023}),\n",
    "    (\"2\", [0.2, 0.2, 0.2], {\"topic\": \"other\", \"year\": 2022}),\n",
    "    (\"3\", [0.3, 0.3, 0.3], {\"topic\": \"body\", \"year\": 2023}),\n",
    "    (\"4\", [0.4, 0.4, 0.4], {\"topic\": \"body\"}),\n",
    "    (\"5\", [0.5, 0.5, 0.5], {\"topic\": \"subject\"})\n",
    "])"
   ]
  },
  {
   "cell_type": "markdown",
   "id": "b7bdaede-b545-4cbd-8a67-982b2c7e18de",
   "metadata": {},
   "source": [
    "Query"
   ]
  },
  {
   "cell_type": "code",
   "execution_count": null,
   "id": "bf2b5208-2923-4236-b81b-120aa61c8f8d",
   "metadata": {},
   "outputs": [],
   "source": [
    "idx.query(vector = [0, 0, 0], \n",
    "          top_k=2, \n",
    "          include_metadata=True,\n",
    "          include_values=True,\n",
    "        filter={\n",
    "            \"topic\" : {\"$eq\": \"subject\"},\n",
    "            \"year\" : 2023\n",
    "        })"
   ]
  },
  {
   "cell_type": "markdown",
   "id": "9c626cdf-d5bf-4642-8690-b3b271b9213a",
   "metadata": {},
   "source": [
    "Update and Fetch"
   ]
  },
  {
   "cell_type": "code",
   "execution_count": null,
   "id": "8e336d05-890c-440f-b453-f1be7e05bba6",
   "metadata": {},
   "outputs": [],
   "source": [
    "idx.fetch(ids=['1'])"
   ]
  },
  {
   "cell_type": "code",
   "execution_count": null,
   "id": "a8e65339-5948-4035-9a66-622832be9cad",
   "metadata": {},
   "outputs": [],
   "source": [
    "idx.update(id='1', \n",
    "           values=[0.1, 0.1, 0.1],\n",
    "           set_metadata = {'topic': 'other', 'year': 2023.0},\n",
    "          )\n"
   ]
  },
  {
   "cell_type": "markdown",
   "id": "9067b6d8-df65-4229-8dce-bf45b95a0342",
   "metadata": {},
   "source": [
    "Delete"
   ]
  },
  {
   "cell_type": "code",
   "execution_count": null,
   "id": "9c93ec17-5116-48d1-a30f-9d66a711c9fc",
   "metadata": {},
   "outputs": [],
   "source": [
    "idx.delete(filter = {\n",
    "    # \"topic\" : {\"$eq\" : \"subject\"}\n",
    "      \"topic\" : {\"$eq\" : \"body\"}\n",
    "    # \"topic\" : {\"$eq\" : \"other\"}\n",
    "})"
   ]
  },
  {
   "cell_type": "code",
   "execution_count": null,
   "id": "802449e5-88b4-4769-9cdf-faa66ae22b78",
   "metadata": {},
   "outputs": [],
   "source": []
  }
 ],
 "metadata": {
  "kernelspec": {
   "display_name": "Python 3 (ipykernel)",
   "language": "python",
   "name": "python3"
  },
  "language_info": {
   "codemirror_mode": {
    "name": "ipython",
    "version": 3
   },
   "file_extension": ".py",
   "mimetype": "text/x-python",
   "name": "python",
   "nbconvert_exporter": "python",
   "pygments_lexer": "ipython3",
   "version": "3.12.3"
  }
 },
 "nbformat": 4,
 "nbformat_minor": 5
}
