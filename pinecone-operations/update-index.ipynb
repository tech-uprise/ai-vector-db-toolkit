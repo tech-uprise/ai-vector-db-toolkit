{
 "cells": [
  {
   "attachments": {},
   "cell_type": "markdown",
   "id": "c1d3e2ec-db18-4b91-8a5a-214303f9afb8",
   "metadata": {},
   "source": [
    "1. List of Vectors to be inserted first\n",
    "   (\"A\", [0.1, 0.1, 0.1]),\n",
    "   (\"B\", [0.2, 0.2, 0.2]),\n",
    "   (\"C\", [0.3, 0.3, 0.3]),\n",
    "   (\"D\", [0.4, 0.4, 0.4]),\n",
    "   (\"E\", [0.5, 0.5, 0.5])\n",
    "\n",
    "2. Update Vector \"E\" with values [0.55, 0.55, 0.55]"
   ]
  },
  {
   "cell_type": "code",
   "execution_count": null,
   "id": "fb8a6328-98cd-4ae9-95e2-61e077ed75b8",
   "metadata": {},
   "outputs": [],
   "source": [
    "import sys\n",
    "import os\n",
    "import pinecone\n",
    "from tqdm.autonotebook import tqdm # to address a warning message"
   ]
  },
  {
   "cell_type": "code",
   "execution_count": null,
   "id": "98d9e035-0f76-4a8d-a75a-f4816201bfad",
   "metadata": {},
   "outputs": [],
   "source": [
    "# Print Python executable and version for debugging\n",
    "print(sys.executable)\n",
    "print(sys.version)"
   ]
  },
  {
   "cell_type": "code",
   "execution_count": null,
   "id": "966a2cf7-7cae-49de-b0f6-6a69217fb3b7",
   "metadata": {},
   "outputs": [],
   "source": [
    "# Install Pinecone client if not already installed\n",
    "!{sys.executable} -m pip install pinecone-client"
   ]
  },
  {
   "cell_type": "code",
   "execution_count": null,
   "id": "f0d31f41-6e80-445d-a229-60bd8f94f786",
   "metadata": {},
   "outputs": [],
   "source": [
    "# Check which pip is being used\n",
    "!which pip3"
   ]
  },
  {
   "cell_type": "code",
   "execution_count": null,
   "id": "4500f06a-c763-427f-89c8-e68f7543011f",
   "metadata": {},
   "outputs": [],
   "source": [
    "#from pinecone import Pinecone\n",
    "import os\n",
    "from pinecone import Pinecone, ServerlessSpec\n",
    "# Initialize Pinecone\n",
    "pinecone = Pinecone(api_key=\"your-api-key\")"
   ]
  },
  {
   "cell_type": "code",
   "execution_count": null,
   "id": "2b9d7629-a16a-49c8-a374-45b27c70b3ab",
   "metadata": {},
   "outputs": [],
   "source": [
    "# List all available Pinecone indexes\n",
    "print(\"Available indexes:\", pinecone.list_indexes())"
   ]
  },
  {
   "cell_type": "code",
   "execution_count": null,
   "id": "685d6361-b0d7-419b-99e1-df8231a00865",
   "metadata": {},
   "outputs": [],
   "source": [
    "# Define the index name\n",
    "index_name = 'insert-pinecone'"
   ]
  },
  {
   "cell_type": "code",
   "execution_count": null,
   "id": "b9fd506c-b316-4589-ba06-69834d2e75bd",
   "metadata": {},
   "outputs": [],
   "source": [
    "# Connect to the Pinecone index\n",
    "idx = pinecone.Index(index_name)"
   ]
  },
  {
   "cell_type": "code",
   "execution_count": null,
   "id": "c66a535e-10c3-4f91-8b51-9b1bdb712aac",
   "metadata": {},
   "outputs": [],
   "source": [
    "# Prepare vectors with IDs and convert elements to float\n",
    "vectors = [(\"A\", [0.1, 0.1, 0.1]),\n",
    "   (\"B\", [0.2, 0.2, 0.2]),\n",
    "   (\"C\", [0.3, 0.3, 0.3]),\n",
    "   (\"D\", [0.4, 0.4, 0.4]),\n",
    "   (\"E\", [0.5, 0.5, 0.5])]\n",
    "vectors_float = [(vect_id, [float(num) for num in vect]) for vect_id, vect in vectors]"
   ]
  },
  {
   "cell_type": "code",
   "execution_count": null,
   "id": "3169e22d-5a58-4838-b0af-f1c0c5d04e25",
   "metadata": {},
   "outputs": [],
   "source": [
    "# Upsert vectors into the Pinecone index\n",
    "try:\n",
    "    idx.upsert(vectors_float)\n",
    "    print(\"Vector upsert successful with float conversion.\")\n",
    "except Exception as e:\n",
    "    print(\"Error during vector upsert with float conversion:\", e)"
   ]
  },
  {
   "cell_type": "code",
   "execution_count": null,
   "id": "92a98ed4-88d5-4e98-bd53-f9ed08c6073b",
   "metadata": {},
   "outputs": [],
   "source": [
    "# Fetch vectors by their IDs\n",
    "vect_ids = ['A', 'B', 'C', 'D', 'E']  # IDs of the vectors you want to fetch\n",
    "try:\n",
    "    response = idx.fetch(ids=vect_ids)\n",
    "    for vector_id, vector_data in response.items():\n",
    "        print(f\"ID: {vector_id}, Vector: {vector_data}\")\n",
    "except Exception as e:\n",
    "    print(\"Error during vector fetch:\", e)"
   ]
  },
  {
   "cell_type": "code",
   "execution_count": null,
   "id": "81e5e7be-10cb-4ef4-9819-2cf46c37b92e",
   "metadata": {},
   "outputs": [],
   "source": [
    "idx.update(id = \"E\", values=[0.55, 0.55, 0.55])"
   ]
  },
  {
   "cell_type": "code",
   "execution_count": null,
   "id": "aa3b881f-0deb-4c1a-94f4-7a82d18da500",
   "metadata": {},
   "outputs": [],
   "source": [
    "# List all indexes again to verify changes\n",
    "print(\"Updated indexes:\", pinecone.list_indexes())"
   ]
  },
  {
   "cell_type": "code",
   "execution_count": null,
   "id": "2eeb7a9d-c6f1-4d33-80c7-11457f3a1e3d",
   "metadata": {},
   "outputs": [],
   "source": []
  }
 ],
 "metadata": {
  "kernelspec": {
   "display_name": "Python 3 (ipykernel)",
   "language": "python",
   "name": "python3"
  },
  "language_info": {
   "codemirror_mode": {
    "name": "ipython",
    "version": 3
   },
   "file_extension": ".py",
   "mimetype": "text/x-python",
   "name": "python",
   "nbconvert_exporter": "python",
   "pygments_lexer": "ipython3",
   "version": "3.12.3"
  }
 },
 "nbformat": 4,
 "nbformat_minor": 5
}
