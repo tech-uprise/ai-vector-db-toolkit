{
 "cells": [
  {
   "cell_type": "code",
   "execution_count": null,
   "id": "dfe342c3-c3cd-4a48-b0ec-ff8ca700133c",
   "metadata": {},
   "outputs": [],
   "source": [
    "# Semantic Search with Medium Article by Title & Subtitle"
   ]
  },
  {
   "cell_type": "code",
   "execution_count": null,
   "id": "7b519369-bee5-4547-88c9-0d986906aa08",
   "metadata": {},
   "outputs": [],
   "source": [
    "### Load Data"
   ]
  },
  {
   "cell_type": "code",
   "execution_count": null,
   "id": "4ee13bb6-a47b-4b6f-a5cd-5a96850c1d76",
   "metadata": {},
   "outputs": [],
   "source": [
    "# Verify Python Environment\n",
    "\n",
    "import sys\n",
    "print(sys.executable)"
   ]
  },
  {
   "cell_type": "code",
   "execution_count": null,
   "id": "b89a5748-18e1-4d4e-955f-6036f5d43126",
   "metadata": {},
   "outputs": [],
   "source": [
    "# Check Installed Packages\n",
    "\n",
    "!{sys.executable} -m pip list"
   ]
  },
  {
   "cell_type": "code",
   "execution_count": null,
   "id": "3b9f3fb1-57a0-4203-ae1f-8f32f58eb222",
   "metadata": {},
   "outputs": [],
   "source": [
    "# Reinstall Pandas\n",
    "\n",
    "#!{sys.executable} -m pip install pandas"
   ]
  },
  {
   "cell_type": "code",
   "execution_count": null,
   "id": "19794396-068e-4c24-8e9f-18e264fa6600",
   "metadata": {},
   "outputs": [],
   "source": [
    "import pandas as pd"
   ]
  },
  {
   "cell_type": "code",
   "execution_count": null,
   "id": "17393412-6779-4236-8cd2-0fed8704623e",
   "metadata": {},
   "outputs": [],
   "source": [
    "df = pd.read_csv(\"medium_post_titles.csv\", nrows=10000) # exercise whole data set"
   ]
  },
  {
   "cell_type": "code",
   "execution_count": null,
   "id": "0dab497d-d42f-4175-8b8d-12926ce2a9c8",
   "metadata": {},
   "outputs": [],
   "source": [
    "df.head()"
   ]
  },
  {
   "cell_type": "code",
   "execution_count": null,
   "id": "cbfebad8-8a40-4c4d-abe3-dab1f5b158b1",
   "metadata": {},
   "outputs": [],
   "source": [
    "df[\"subtitle_truncated_flag\"].value_counts()"
   ]
  },
  {
   "cell_type": "markdown",
   "id": "d39c7389-204a-4f73-971f-cfe326ae8bca",
   "metadata": {},
   "source": [
    "### Data Cleanup"
   ]
  },
  {
   "cell_type": "code",
   "execution_count": null,
   "id": "f2d641e8-f060-4811-94f3-4ede6a8c3116",
   "metadata": {},
   "outputs": [],
   "source": [
    "#df.isna().sum()\n",
    "\n",
    "df = df.dropna()\n",
    "df = df[~df[\"subtitle_truncated_flag\"]]\n",
    "# df[\"subtitle_truncated_flag\"].value_counts()\n",
    "\n",
    "df['title_extended'] = df['title'] + df['subtitle']"
   ]
  },
  {
   "cell_type": "code",
   "execution_count": null,
   "id": "039e29b1-4972-4456-bb2b-7e1428526c8b",
   "metadata": {},
   "outputs": [],
   "source": [
    "# df.head()\n",
    "# df['category'].nunique() # metadata\n",
    "# df.shape # 6k+ vectors"
   ]
  },
  {
   "cell_type": "markdown",
   "id": "56ff34a1-6881-4166-a908-c89a8928674b",
   "metadata": {},
   "source": [
    "### Prep for Upsert"
   ]
  },
  {
   "cell_type": "code",
   "execution_count": null,
   "id": "30157361-a3aa-4420-80fd-c9d85cc5da7a",
   "metadata": {},
   "outputs": [],
   "source": [
    "# init pinecone\n",
    "\n",
    "# API_KEY\n",
    "\n",
    "#from pinecone import Pinecone\n",
    "import os\n",
    "from pinecone import Pinecone, ServerlessSpec\n",
    "\n",
    "# Initialize Pinecone\n",
    "pc = Pinecone(api_key=\"your-api-key\")"
   ]
  },
  {
   "cell_type": "code",
   "execution_count": null,
   "id": "35664818-3ca6-4c48-98cd-da606814331b",
   "metadata": {},
   "outputs": [],
   "source": [
    "# Check if an index exists and create one if it does not\n",
    "if 'medium-data' not in pc.list_indexes().names():\n",
    "    pc.create_index(\n",
    "        name='medium-data', \n",
    "        dimension=384, \n",
    "        metric='cosine',\n",
    "        spec=ServerlessSpec(\n",
    "            cloud='aws',\n",
    "            region='us-east-1'\n",
    "        )\n",
    "    )"
   ]
  },
  {
   "cell_type": "code",
   "execution_count": null,
   "id": "bfc02f0f-af17-47ad-898d-e5fd7b0981e0",
   "metadata": {},
   "outputs": [],
   "source": [
    "import sys\n",
    "print(sys.executable)"
   ]
  },
  {
   "cell_type": "code",
   "execution_count": null,
   "id": "93d8d5f0-0149-4a98-ad8e-04b0e684584b",
   "metadata": {},
   "outputs": [],
   "source": [
    "# !{sys.executable} -m pip install sentence-transformers"
   ]
  },
  {
   "cell_type": "code",
   "execution_count": null,
   "id": "4483751e-1fd4-4e9f-a3c5-66844518b879",
   "metadata": {},
   "outputs": [],
   "source": [
    "# !pip list"
   ]
  },
  {
   "cell_type": "code",
   "execution_count": null,
   "id": "f8c3f53c-7d59-4fcd-b9f2-25219f07c658",
   "metadata": {},
   "outputs": [],
   "source": [
    "#import sys\n",
    "#print(sys.path)"
   ]
  },
  {
   "cell_type": "code",
   "execution_count": null,
   "id": "4b4e994c-01de-4988-9a3e-a0d793f55091",
   "metadata": {
    "scrolled": true
   },
   "outputs": [],
   "source": [
    "from sentence_transformers import SentenceTransformer\n",
    "import torch"
   ]
  },
  {
   "cell_type": "code",
   "execution_count": null,
   "id": "6ae92c82-1690-48fe-b403-a4ca87213724",
   "metadata": {},
   "outputs": [],
   "source": [
    "model = SentenceTransformer('all-MiniLM-L6-v2', device='cpu')"
   ]
  },
  {
   "cell_type": "code",
   "execution_count": null,
   "id": "5b23e3ca-bdd4-4d65-8d70-9d0f5b8b190f",
   "metadata": {},
   "outputs": [],
   "source": [
    "df.head(2)"
   ]
  },
  {
   "cell_type": "code",
   "execution_count": null,
   "id": "3f1f87a5-fa68-44a6-a52a-9dede273491f",
   "metadata": {},
   "outputs": [],
   "source": [
    "df['values'] = df['title_extended'].map(\n",
    "    lambda x: (model.encode(x)).tolist()) # python list, 6k rows"
   ]
  },
  {
   "cell_type": "code",
   "execution_count": null,
   "id": "1e17a897-6f71-4813-92a4-61eff9fab1a3",
   "metadata": {},
   "outputs": [],
   "source": [
    "df.head()"
   ]
  },
  {
   "cell_type": "code",
   "execution_count": null,
   "id": "cdf12f7e-acef-482b-bada-5e1400d0ea37",
   "metadata": {},
   "outputs": [],
   "source": [
    "df['id'] = df.reset_index(drop = 'index').index"
   ]
  },
  {
   "cell_type": "code",
   "execution_count": null,
   "id": "a4775723-1361-4317-9858-fd6a4f4a5b9f",
   "metadata": {},
   "outputs": [],
   "source": [
    "df['metadata'] = df.apply(lambda x: {\n",
    "        'title' : x['title'],\n",
    "        'subtitle' : x['subtitle'],\n",
    "        'category' : x['category']\n",
    "}, axis=1)"
   ]
  },
  {
   "cell_type": "code",
   "execution_count": null,
   "id": "985bd776-ce94-44d3-b128-56513acf5b01",
   "metadata": {},
   "outputs": [],
   "source": [
    "df.head(2)"
   ]
  },
  {
   "cell_type": "code",
   "execution_count": null,
   "id": "0d33d413-7b15-41a1-ba33-893edf36e15d",
   "metadata": {},
   "outputs": [],
   "source": [
    "df_upsert = df[['id', 'values', 'metadata']]"
   ]
  },
  {
   "cell_type": "code",
   "execution_count": null,
   "id": "5c98f33e-60bb-4b10-bb84-3ca9aea5153d",
   "metadata": {},
   "outputs": [],
   "source": [
    "df_upsert['id'] = df_upsert['id'].map(lambda x: str(x))"
   ]
  },
  {
   "cell_type": "code",
   "execution_count": null,
   "id": "fc5522b6-1047-4753-8f79-f0b23a629664",
   "metadata": {},
   "outputs": [],
   "source": [
    "index = pc.Index('medium-data')"
   ]
  },
  {
   "cell_type": "code",
   "execution_count": null,
   "id": "3d0edb3a-2592-4211-9e66-4bd4d601b6e5",
   "metadata": {},
   "outputs": [],
   "source": [
    "index.upsert_from_dataframe(df_upsert)"
   ]
  },
  {
   "cell_type": "markdown",
   "id": "581e9ef9-2843-4639-a624-ace9bb47f2d0",
   "metadata": {},
   "source": [
    "### Query"
   ]
  },
  {
   "cell_type": "code",
   "execution_count": null,
   "id": "bb5eacf6-cae9-4eeb-9c20-c7b679929037",
   "metadata": {},
   "outputs": [],
   "source": [
    "# Encode the query and convert to list\n",
    "query_vector = model.encode(\"which city is most beautiful?\").tolist() # python list"
   ]
  },
  {
   "cell_type": "code",
   "execution_count": null,
   "id": "4f504533-fcfd-4873-a3ce-e73d95feee90",
   "metadata": {},
   "outputs": [],
   "source": [
    "# Ensure the vector length matches the expected dimension of 384\n",
    "if len(query_vector) != 384:\n",
    "    raise ValueError(\"The dimension of the query vector does not match the expected dimension of 384.\")\n",
    "\n",
    "# Perform the query using keyword arguments\n",
    "results = index.query(vector=query_vector, \n",
    "                      top_k=10, \n",
    "                      include_metadata=True,\n",
    "                      include_values=True)"
   ]
  },
  {
   "cell_type": "code",
   "execution_count": null,
   "id": "60762403-c6b8-44ea-afd4-cde47cbea660",
   "metadata": {},
   "outputs": [],
   "source": [
    "for result in results['matches']:\n",
    "    print(f\"{round(result['score'], 2)}: {result['metadata']['title']}\")"
   ]
  },
  {
   "cell_type": "code",
   "execution_count": null,
   "id": "c7a0eba4-8d42-4516-9dd0-6331d15c337f",
   "metadata": {},
   "outputs": [],
   "source": [
    "for result in results['matches']:\n",
    "    print(f\"{round(result['score'], 2)}: {result['metadata']['subtitle']}\")"
   ]
  },
  {
   "cell_type": "code",
   "execution_count": null,
   "id": "5610f747-611e-49f8-a81b-e3069855d100",
   "metadata": {},
   "outputs": [],
   "source": [
    "for result in results['matches']:\n",
    "    print(f\"{round(result['score'], 2)}: {result['metadata']['title']}\")"
   ]
  },
  {
   "cell_type": "code",
   "execution_count": null,
   "id": "c30a512b-231e-4f2f-91ed-e1223d65a391",
   "metadata": {},
   "outputs": [],
   "source": []
  }
 ],
 "metadata": {
  "kernelspec": {
   "display_name": "Python 3 (ipykernel)",
   "language": "python",
   "name": "python3"
  },
  "language_info": {
   "codemirror_mode": {
    "name": "ipython",
    "version": 3
   },
   "file_extension": ".py",
   "mimetype": "text/x-python",
   "name": "python",
   "nbconvert_exporter": "python",
   "pygments_lexer": "ipython3",
   "version": "3.12.3"
  }
 },
 "nbformat": 4,
 "nbformat_minor": 5
}
