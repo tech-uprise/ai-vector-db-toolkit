{
 "cells": [
  {
   "cell_type": "code",
   "execution_count": null,
   "id": "497ec19e-1eab-4b86-86d8-037af0c85526",
   "metadata": {},
   "outputs": [],
   "source": [
    "import sys\n",
    "import os\n",
    "import pinecone\n",
    "from tqdm.autonotebook import tqdm # to address a warning message"
   ]
  },
  {
   "cell_type": "code",
   "execution_count": null,
   "id": "4495b394-dca2-4d5c-a77d-15ccbfe90fd8",
   "metadata": {},
   "outputs": [],
   "source": [
    "# Print Python executable and version for debugging\n",
    "print(sys.executable)\n",
    "print(sys.version)"
   ]
  },
  {
   "cell_type": "code",
   "execution_count": null,
   "id": "c9ddb42e-c087-4e73-bdeb-821015483636",
   "metadata": {},
   "outputs": [],
   "source": [
    "# Install Pinecone client if not already installed\n",
    "!{sys.executable} -m pip install pinecone-client"
   ]
  },
  {
   "cell_type": "code",
   "execution_count": null,
   "id": "8ca88680-448a-4fe9-a959-4379761722bb",
   "metadata": {},
   "outputs": [],
   "source": [
    "# Check which pip is being used\n",
    "!which pip3"
   ]
  },
  {
   "cell_type": "code",
   "execution_count": null,
   "id": "966a2cf7-7cae-49de-b0f6-6a69217fb3b7",
   "metadata": {},
   "outputs": [],
   "source": [
    "#from pinecone import Pinecone\n",
    "import os\n",
    "from pinecone import Pinecone, ServerlessSpec\n",
    "# Initialize Pinecone\n",
    "pc = Pinecone(api_key=\"your-api-key\")"
   ]
  },
  {
   "cell_type": "code",
   "execution_count": null,
   "id": "2b9d7629-a16a-49c8-a374-45b27c70b3ab",
   "metadata": {},
   "outputs": [],
   "source": [
    "# List all available Pinecone indexes\n",
    "print(\"Available indexes:\", pc.list_indexes())"
   ]
  },
  {
   "cell_type": "code",
   "execution_count": null,
   "id": "685d6361-b0d7-419b-99e1-df8231a00865",
   "metadata": {},
   "outputs": [],
   "source": [
    "# Define the index name\n",
    "index_name = 'test-index'"
   ]
  },
  {
   "cell_type": "code",
   "execution_count": null,
   "id": "b9fd506c-b316-4589-ba06-69834d2e75bd",
   "metadata": {},
   "outputs": [],
   "source": [
    "# Connect to the Pinecone index\n",
    "idx = pc.Index(index_name)"
   ]
  },
  {
   "cell_type": "code",
   "execution_count": null,
   "id": "87a87763-d0e1-49a2-b768-6aed673dad7e",
   "metadata": {},
   "outputs": [],
   "source": [
    "# Original vectors with integer elements\n",
    "vectors = [('vect1', [1, 3, 4]), ('vect2', [5, 6, 7]), ('vect3', [8, 9, 0])]"
   ]
  },
  {
   "cell_type": "code",
   "execution_count": null,
   "id": "c64f3fb8-6f16-4340-8fc6-3498ec73f83d",
   "metadata": {},
   "outputs": [],
   "source": [
    "# Convert each element in each vector to float\n",
    "vectors_float = [(vect_id, [float(num) for num in vect]) for vect_id, vect in vectors]"
   ]
  },
  {
   "cell_type": "code",
   "execution_count": null,
   "id": "a6f40415-024e-47dd-881b-f1a6b39896db",
   "metadata": {},
   "outputs": [],
   "source": [
    "# Attempt to upsert the vectors with float elements\n",
    "try:\n",
    "    idx.upsert(vectors_float)\n",
    "    print(\"Vector upsert successful with float conversion.\")\n",
    "except Exception as e:\n",
    "    print(\"Error during vector upsert with float conversion:\", e)"
   ]
  },
  {
   "cell_type": "code",
   "execution_count": null,
   "id": "aa3b881f-0deb-4c1a-94f4-7a82d18da500",
   "metadata": {},
   "outputs": [],
   "source": [
    "# List all indexes again to verify changes\n",
    "print(\"Updated indexes:\", pc.list_indexes())"
   ]
  },
  {
   "cell_type": "code",
   "execution_count": null,
   "id": "2eeb7a9d-c6f1-4d33-80c7-11457f3a1e3d",
   "metadata": {},
   "outputs": [],
   "source": []
  }
 ],
 "metadata": {
  "kernelspec": {
   "display_name": "Python 3 (ipykernel)",
   "language": "python",
   "name": "python3"
  },
  "language_info": {
   "codemirror_mode": {
    "name": "ipython",
    "version": 3
   },
   "file_extension": ".py",
   "mimetype": "text/x-python",
   "name": "python",
   "nbconvert_exporter": "python",
   "pygments_lexer": "ipython3",
   "version": "3.12.3"
  }
 },
 "nbformat": 4,
 "nbformat_minor": 5
}
