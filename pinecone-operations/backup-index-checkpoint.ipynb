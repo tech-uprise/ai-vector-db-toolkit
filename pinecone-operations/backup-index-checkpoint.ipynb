{
 "cells": [
  {
   "cell_type": "markdown",
   "id": "b95f4424-0c34-4580-af96-a8097c506655",
   "metadata": {},
   "source": [
    "\n",
    "Index Backup Using Collection\n",
    "                                        "
   ]
  },
  {
   "cell_type": "markdown",
   "id": "187c8867-655b-4a1e-8b0f-3d42279f6a96",
   "metadata": {},
   "source": [
    "\n",
    "1. Initialize Pinecone and Create Index\n",
    "2. Upsert Sparse-Dense Vectors\n",
    "3. Create Collection\n",
    "4. List, Describe\n",
    "5. Create Index from Collection\n",
    "6. Delete Collection\n"
   ]
  },
  {
   "cell_type": "code",
   "execution_count": null,
   "id": "8583c6ec-41ab-4c25-bfb7-c600ef3c55d5",
   "metadata": {},
   "outputs": [],
   "source": [
    "import sys\n",
    "print(sys.executable)\n",
    "print(sys.version)"
   ]
  },
  {
   "cell_type": "code",
   "execution_count": null,
   "id": "a310a546-f072-4ef3-b52d-481f335c468d",
   "metadata": {},
   "outputs": [],
   "source": [
    "!{sys.executable} -m pip install pinecone-client"
   ]
  },
  {
   "cell_type": "code",
   "execution_count": null,
   "id": "b4279e14-09eb-4ca1-9530-7c36236239f5",
   "metadata": {},
   "outputs": [],
   "source": [
    "!which pip3"
   ]
  },
  {
   "cell_type": "code",
   "execution_count": null,
   "id": "38339fc9-8836-49b6-8a5c-0a7b37b11f3d",
   "metadata": {},
   "outputs": [],
   "source": [
    "# Update Jupyter using pip\n",
    "#import sys\n",
    "#!{sys.executable} -m pip install --upgrade jupyter\n",
    "\n",
    "# Install or update ipywidgets using pip\n",
    "#!pip install --upgrade ipywidgets"
   ]
  },
  {
   "cell_type": "code",
   "execution_count": null,
   "id": "3b3e589e-98ee-4045-b4d8-f42373aac119",
   "metadata": {},
   "outputs": [],
   "source": [
    "#from pinecone import Pinecone\n",
    "import os\n",
    "from pinecone import Pinecone"
   ]
  },
  {
   "cell_type": "code",
   "execution_count": null,
   "id": "62da894a-7938-4b61-a034-480f9bb24d6e",
   "metadata": {},
   "outputs": [],
   "source": [
    "#!{sys.executable} -m pip list"
   ]
  },
  {
   "cell_type": "code",
   "execution_count": null,
   "id": "753da7b5-739e-4070-8110-59b664d34457",
   "metadata": {
    "scrolled": true
   },
   "outputs": [],
   "source": [
    "# Initialize Pinecone\n",
    "pc = Pinecone(api_key=\"your-api-key\")"
   ]
  },
  {
   "cell_type": "markdown",
   "id": "4f8e8d67-1976-4dd3-b9c7-502d81bd3eb0",
   "metadata": {},
   "source": [
    "\n",
    "1. Initialize Pinecone and Create Index\n"
   ]
  },
  {
   "cell_type": "code",
   "execution_count": null,
   "id": "28623d3c-0ff4-456d-8b81-41496ee5a722",
   "metadata": {},
   "outputs": [],
   "source": [
    "# Create a Pinecone client instance\n",
    "#pc = pinecone.Client()"
   ]
  },
  {
   "cell_type": "code",
   "execution_count": null,
   "id": "fd255fe1-58be-4978-b136-d34660d02a25",
   "metadata": {},
   "outputs": [],
   "source": [
    "# Check if the pod-based index exists and create it if it does not\n",
    "from pinecone import Pinecone, PodSpec\n",
    "index_name = 'pod-based-index'\n",
    "if index_name not in pc.list_indexes().names():\n",
    "    # Create a new pod-based index with the required specifications\n",
    "    pc.create_index(\n",
    "        name=index_name,\n",
    "        dimension=3,  # Specify the correct dimension for your vectors\n",
    "        metric='dotproduct',  # Choose the appropriate metric\n",
    "        spec=PodSpec(\n",
    "            environment='us-east-1-aws',  # Specify the cloud environment\n",
    "            pod_type='s1.x1',  # Specify the pod type and size\n",
    "            pods=1  # Specify the number of pods\n",
    "        )\n",
    "    )\n",
    "    print(\"Pod-based index created successfully.\")\n",
    "else:\n",
    "    print(\"Pod-based index already exists.\")"
   ]
  },
  {
   "cell_type": "markdown",
   "id": "cfdc2f5b-989f-4aac-a027-7e505c98de72",
   "metadata": {},
   "source": [
    "\n",
    "2. Upsert Sparse-Dense Vectors\n",
    "   "
   ]
  },
  {
   "cell_type": "code",
   "execution_count": null,
   "id": "8806be6e-18b3-4921-bc78-117abbcc6b24",
   "metadata": {},
   "outputs": [],
   "source": [
    "pc.list_indexes()"
   ]
  },
  {
   "cell_type": "code",
   "execution_count": null,
   "id": "bb8a4bbf-8165-4583-b38a-5064d8314423",
   "metadata": {},
   "outputs": [],
   "source": [
    "vectors = [[1, 3, 4], [5, 6, 7], [8, 9, 0]]\n",
    "\n",
    "vect_ids = ['vect1', 'vect2', 'vect3']\n",
    "\n",
    "# Connect to the pod-based index\n",
    "idx = pc.Index(index_name)\n",
    "\n",
    "# Original vectors with integer elements\n",
    "vectors = [('vect1', [1, 3, 4]), ('vect2', [5, 6, 7]), ('vect3', [8, 9, 0])]\n",
    "\n",
    "# Convert each element in each vector to float\n",
    "vectors_float = [(vect_id, [float(num) for num in vect]) for vect_id, vect in vectors]"
   ]
  },
  {
   "cell_type": "code",
   "execution_count": null,
   "id": "20d44e2c-c6d1-4ee1-bed2-65a1e354b5d2",
   "metadata": {},
   "outputs": [],
   "source": [
    "# Upsert vectors into the pod-based index\n",
    "try:\n",
    "    idx.upsert(vectors_float)\n",
    "    print(\"Vector upsert successful.\")\n",
    "except Exception as e:\n",
    "    print(\"Error during vector upsert:\", e)"
   ]
  },
  {
   "cell_type": "markdown",
   "id": "f3378f18-34eb-4b7d-80b4-f74e00cae691",
   "metadata": {},
   "source": [
    "\n",
    "3. Create Collection\n",
    "   "
   ]
  },
  {
   "cell_type": "code",
   "execution_count": null,
   "id": "c7e129f8-7af4-4fcc-827f-02c5aa6b15bb",
   "metadata": {},
   "outputs": [],
   "source": [
    "try:\n",
    "    index_info = pc.describe_index(name = index_name)\n",
    "    print(\"Index Type:\", index_info.type)\n",
    "except Exception as e:\n",
    "    print(\"Error retrieving index information:\", e)"
   ]
  },
  {
   "cell_type": "code",
   "execution_count": null,
   "id": "bd58baec-87b4-41e5-8d76-9a91088a59da",
   "metadata": {},
   "outputs": [],
   "source": [
    "# Create a collection from the pod-based index\n",
    "try:\n",
    "    pc.create_collection(name='my-collection', source=index_name)  # Use hyphens instead of underscores\n",
    "    print(\"Collection created successfully.\")\n",
    "except Exception as e:\n",
    "    print(\"Error during collection creation:\", e)"
   ]
  },
  {
   "cell_type": "code",
   "execution_count": null,
   "id": "bc40fbd2-28d5-4206-a6e8-f5a998e71139",
   "metadata": {},
   "outputs": [],
   "source": [
    "idx = pc.Index(index_name)"
   ]
  },
  {
   "cell_type": "markdown",
   "id": "e6a53c81-a8b6-4fab-bc76-bdbd26f989b7",
   "metadata": {},
   "source": [
    "\n",
    "4. List, Describe Collection\n"
   ]
  },
  {
   "cell_type": "code",
   "execution_count": null,
   "id": "6afb4eec-c0ed-4484-802c-01dd08e967c5",
   "metadata": {},
   "outputs": [],
   "source": [
    "# list all collections in database\n",
    "pc.list_collections()"
   ]
  },
  {
   "cell_type": "code",
   "execution_count": null,
   "id": "ab6aa1cf-eba6-4b64-8e4e-791aabaa7e77",
   "metadata": {},
   "outputs": [],
   "source": [
    "# describe a collection\n",
    "pc.describe_collection(\"my-collection\") # response\n"
   ]
  },
  {
   "cell_type": "markdown",
   "id": "ab93b023-d4c0-4d64-ba13-35ab667746ff",
   "metadata": {},
   "source": [
    "\n",
    "5. Create Index from Collection\n",
    "   "
   ]
  },
  {
   "cell_type": "code",
   "execution_count": null,
   "id": "f27663b7-ad8e-4f3e-ba04-7746e18c3652",
   "metadata": {},
   "outputs": [],
   "source": [
    "# You do this step from the console - https://app.pinecone.io/organizations/"
   ]
  },
  {
   "cell_type": "markdown",
   "id": "10a4aa26-1985-42dc-ae60-34c56dcee0a5",
   "metadata": {},
   "source": [
    "\n",
    "6. Delete Collection\n"
   ]
  },
  {
   "cell_type": "code",
   "execution_count": null,
   "id": "314a580d-6bcc-4397-974e-3dbda4b5d91e",
   "metadata": {},
   "outputs": [],
   "source": [
    "# pc.delete_collection(\"my-collection\")"
   ]
  }
 ],
 "metadata": {
  "kernelspec": {
   "display_name": "Python 3 (ipykernel)",
   "language": "python",
   "name": "python3"
  },
  "language_info": {
   "codemirror_mode": {
    "name": "ipython",
    "version": 3
   },
   "file_extension": ".py",
   "mimetype": "text/x-python",
   "name": "python",
   "nbconvert_exporter": "python",
   "pygments_lexer": "ipython3",
   "version": "3.12.3"
  }
 },
 "nbformat": 4,
 "nbformat_minor": 5
}
