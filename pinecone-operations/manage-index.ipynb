{
 "cells": [
  {
   "cell_type": "markdown",
   "id": "b95f4424-0c34-4580-af96-a8097c506655",
   "metadata": {},
   "source": [
    "\n",
    "Index Management\n",
    "                                        "
   ]
  },
  {
   "cell_type": "markdown",
   "id": "187c8867-655b-4a1e-8b0f-3d42279f6a96",
   "metadata": {},
   "source": [
    "\n",
    "1. Create Index\n",
    "2. Retrieve list of database indexes\n",
    "3. Connect to an Index\n",
    "4. Describe Index\n",
    "5. Delete Index\n"
   ]
  },
  {
   "cell_type": "code",
   "execution_count": null,
   "id": "8583c6ec-41ab-4c25-bfb7-c600ef3c55d5",
   "metadata": {},
   "outputs": [],
   "source": [
    "import sys\n",
    "print(sys.executable)\n",
    "print(sys.version)"
   ]
  },
  {
   "cell_type": "code",
   "execution_count": null,
   "id": "a310a546-f072-4ef3-b52d-481f335c468d",
   "metadata": {},
   "outputs": [],
   "source": [
    "!{sys.executable} -m pip install pinecone-client"
   ]
  },
  {
   "cell_type": "code",
   "execution_count": null,
   "id": "b4279e14-09eb-4ca1-9530-7c36236239f5",
   "metadata": {},
   "outputs": [],
   "source": [
    "!which pip3"
   ]
  },
  {
   "cell_type": "code",
   "execution_count": null,
   "id": "38339fc9-8836-49b6-8a5c-0a7b37b11f3d",
   "metadata": {},
   "outputs": [],
   "source": [
    "# Update Jupyter using pip\n",
    "#import sys\n",
    "#!{sys.executable} -m pip install --upgrade jupyter\n",
    "\n",
    "# Install or update ipywidgets using pip\n",
    "#!pip install --upgrade ipywidgets"
   ]
  },
  {
   "cell_type": "code",
   "execution_count": null,
   "id": "3b3e589e-98ee-4045-b4d8-f42373aac119",
   "metadata": {},
   "outputs": [],
   "source": [
    "#from pinecone import Pinecone\n",
    "import os\n",
    "from pinecone import Pinecone, ServerlessSpec"
   ]
  },
  {
   "cell_type": "code",
   "execution_count": null,
   "id": "62da894a-7938-4b61-a034-480f9bb24d6e",
   "metadata": {},
   "outputs": [],
   "source": [
    "#!{sys.executable} -m pip list"
   ]
  },
  {
   "cell_type": "code",
   "execution_count": null,
   "id": "753da7b5-739e-4070-8110-59b664d34457",
   "metadata": {
    "scrolled": true
   },
   "outputs": [],
   "source": [
    "# Initialize Pinecone\n",
    "pc = Pinecone(api_key=\"your-api-key\")"
   ]
  },
  {
   "cell_type": "markdown",
   "id": "4f8e8d67-1976-4dd3-b9c7-502d81bd3eb0",
   "metadata": {},
   "source": [
    "\n",
    "1. Create Index\n"
   ]
  },
  {
   "cell_type": "code",
   "execution_count": null,
   "id": "fd255fe1-58be-4978-b136-d34660d02a25",
   "metadata": {},
   "outputs": [],
   "source": [
    "# Example: Check if an index exists and create one if it does not\n",
    "if 'management-index' not in pc.list_indexes().names():\n",
    "    pc.create_index(\n",
    "        name='management-index', \n",
    "        dimension=4, \n",
    "        metric='euclidean',\n",
    "        spec=ServerlessSpec(\n",
    "            cloud='aws',\n",
    "            region='us-east-1'\n",
    "        )\n",
    "    )"
   ]
  },
  {
   "cell_type": "markdown",
   "id": "cfdc2f5b-989f-4aac-a027-7e505c98de72",
   "metadata": {},
   "source": [
    "\n",
    "2. Retrieve list of database indexes\n",
    "   "
   ]
  },
  {
   "cell_type": "code",
   "execution_count": null,
   "id": "8806be6e-18b3-4921-bc78-117abbcc6b24",
   "metadata": {},
   "outputs": [],
   "source": [
    "pc.list_indexes()"
   ]
  },
  {
   "cell_type": "markdown",
   "id": "f3378f18-34eb-4b7d-80b4-f74e00cae691",
   "metadata": {},
   "source": [
    "\n",
    "3. Connect to an Index\n",
    "   "
   ]
  },
  {
   "cell_type": "code",
   "execution_count": null,
   "id": "bc40fbd2-28d5-4206-a6e8-f5a998e71139",
   "metadata": {},
   "outputs": [],
   "source": [
    "idx = pc.Index('management-index')"
   ]
  },
  {
   "cell_type": "markdown",
   "id": "e6a53c81-a8b6-4fab-bc76-bdbd26f989b7",
   "metadata": {},
   "source": [
    "\n",
    "4. Describe Index\n"
   ]
  },
  {
   "cell_type": "code",
   "execution_count": null,
   "id": "710d7373-e968-4eec-84ff-5095baeef5c8",
   "metadata": {},
   "outputs": [],
   "source": [
    "description = pc.describe_index('management-index') #"
   ]
  },
  {
   "cell_type": "code",
   "execution_count": null,
   "id": "12b1b91d-557f-459e-9188-df1e3c3663f6",
   "metadata": {},
   "outputs": [],
   "source": [
    "if (description.status['state'] == 'Ready') :\n",
    "    print('Index ready')\n",
    "else:\n",
    "    print('Index not ready')"
   ]
  },
  {
   "cell_type": "code",
   "execution_count": null,
   "id": "ff354e36-52d9-435a-82e7-3af41fd09488",
   "metadata": {},
   "outputs": [],
   "source": [
    "description.dimension"
   ]
  },
  {
   "cell_type": "markdown",
   "id": "ab93b023-d4c0-4d64-ba13-35ab667746ff",
   "metadata": {},
   "source": [
    "\n",
    "5. Delete Index\n",
    "   "
   ]
  },
  {
   "cell_type": "code",
   "execution_count": null,
   "id": "4f909161-2eb7-4793-ab70-be03a8818226",
   "metadata": {},
   "outputs": [],
   "source": [
    "pc.delete_index('management-index')"
   ]
  }
 ],
 "metadata": {
  "kernelspec": {
   "display_name": "Python 3 (ipykernel)",
   "language": "python",
   "name": "python3"
  },
  "language_info": {
   "codemirror_mode": {
    "name": "ipython",
    "version": 3
   },
   "file_extension": ".py",
   "mimetype": "text/x-python",
   "name": "python",
   "nbconvert_exporter": "python",
   "pygments_lexer": "ipython3",
   "version": "3.12.3"
  }
 },
 "nbformat": 4,
 "nbformat_minor": 5
}
