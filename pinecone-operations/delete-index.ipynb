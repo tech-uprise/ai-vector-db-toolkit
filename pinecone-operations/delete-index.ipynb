{
 "cells": [
  {
   "cell_type": "code",
   "execution_count": null,
   "id": "497ec19e-1eab-4b86-86d8-037af0c85526",
   "metadata": {},
   "outputs": [],
   "source": [
    "import sys\n",
    "import os\n",
    "import pinecone\n",
    "from tqdm.autonotebook import tqdm # to address a warning message"
   ]
  },
  {
   "cell_type": "code",
   "execution_count": null,
   "id": "4495b394-dca2-4d5c-a77d-15ccbfe90fd8",
   "metadata": {},
   "outputs": [],
   "source": [
    "# Print Python executable and version for debugging\n",
    "print(sys.executable)\n",
    "print(sys.version)"
   ]
  },
  {
   "cell_type": "code",
   "execution_count": null,
   "id": "c9ddb42e-c087-4e73-bdeb-821015483636",
   "metadata": {},
   "outputs": [],
   "source": [
    "# Install Pinecone client if not already installed\n",
    "!{sys.executable} -m pip install pinecone-client"
   ]
  },
  {
   "cell_type": "code",
   "execution_count": null,
   "id": "8ca88680-448a-4fe9-a959-4379761722bb",
   "metadata": {},
   "outputs": [],
   "source": [
    "# Check which pip is being used\n",
    "!which pip3"
   ]
  },
  {
   "cell_type": "code",
   "execution_count": null,
   "id": "966a2cf7-7cae-49de-b0f6-6a69217fb3b7",
   "metadata": {},
   "outputs": [],
   "source": [
    "#from pinecone import Pinecone\n",
    "import os\n",
    "from pinecone import Pinecone, ServerlessSpec\n",
    "# Initialize Pinecone\n",
    "pinecone = Pinecone(api_key=\"your-api-key\")"
   ]
  },
  {
   "cell_type": "code",
   "execution_count": null,
   "id": "2b9d7629-a16a-49c8-a374-45b27c70b3ab",
   "metadata": {},
   "outputs": [],
   "source": [
    "# List all available Pinecone indexes\n",
    "print(\"Available indexes:\", pinecone.list_indexes())"
   ]
  },
  {
   "cell_type": "code",
   "execution_count": null,
   "id": "685d6361-b0d7-419b-99e1-df8231a00865",
   "metadata": {},
   "outputs": [],
   "source": [
    "# Define the index name\n",
    "index_name = 'insert-pinecone'"
   ]
  },
  {
   "cell_type": "code",
   "execution_count": null,
   "id": "b9fd506c-b316-4589-ba06-69834d2e75bd",
   "metadata": {},
   "outputs": [],
   "source": [
    "# Connect to the Pinecone index\n",
    "idx = pinecone.Index(index_name)"
   ]
  },
  {
   "cell_type": "code",
   "execution_count": null,
   "id": "d6a1c460-f497-483a-b90e-97eb6455d56c",
   "metadata": {},
   "outputs": [],
   "source": [
    "idx.delete(ids = ['vect3'])"
   ]
  },
  {
   "cell_type": "code",
   "execution_count": null,
   "id": "d09697f4-d053-4aab-ba9d-10a1027478a0",
   "metadata": {},
   "outputs": [],
   "source": [
    "# to delete all vectors\n",
    "ids.delete(delete_all=True)"
   ]
  }
 ],
 "metadata": {
  "kernelspec": {
   "display_name": "Python 3 (ipykernel)",
   "language": "python",
   "name": "python3"
  },
  "language_info": {
   "codemirror_mode": {
    "name": "ipython",
    "version": 3
   },
   "file_extension": ".py",
   "mimetype": "text/x-python",
   "name": "python",
   "nbconvert_exporter": "python",
   "pygments_lexer": "ipython3",
   "version": "3.12.3"
  }
 },
 "nbformat": 4,
 "nbformat_minor": 5
}
